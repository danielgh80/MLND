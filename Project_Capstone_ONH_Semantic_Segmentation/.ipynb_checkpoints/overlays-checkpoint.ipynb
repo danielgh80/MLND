{
 "cells": [
  {
   "cell_type": "code",
   "execution_count": null,
   "metadata": {
    "collapsed": true
   },
   "outputs": [],
   "source": [
    "import cv2\n",
    "import numpy as np\n",
    "import pandas as pd"
   ]
  },
  {
   "cell_type": "code",
   "execution_count": null,
   "metadata": {},
   "outputs": [],
   "source": [
    "mask = cv2.imread('data2/data/test/N-TPC1518-R.png')\n",
    "im = cv2.imread('data2/data/test/test/N-TPC1518-R.jpg')\n",
    "mask_inv =  255 - mask\n",
    "img = cv2.addWeighted(mask, -0.1, im, 1, 0, .7)"
   ]
  },
  {
   "cell_type": "code",
   "execution_count": null,
   "metadata": {},
   "outputs": [],
   "source": [
    "imS = cv2.resize(img, (1440, 960)) \n",
    "cv2.imshow('image',imS)\n",
    "cv2.waitKey(0)\n"
   ]
  },
  {
   "cell_type": "code",
   "execution_count": null,
   "metadata": {},
   "outputs": [],
   "source": [
    "df_test = pd.read_csv('test.csv')\n",
    "ids_test = df_test['img'].map(lambda s: s.split('.')[0])\n",
    "ids_test[0]"
   ]
  },
  {
   "cell_type": "code",
   "execution_count": null,
   "metadata": {
    "collapsed": true
   },
   "outputs": [],
   "source": [
    "for ids in ids_test:\n",
    "    im = cv2.imread('data2/data/test/test/{}.jpg'.format(ids))\n",
    "    mask = cv2.imread('data2/data/test/{}_mask.png'.format(ids))\n",
    "    im = cv2.addWeighted(mask, 0.25, im, 1, 0, 1)\n",
    "    cv2.imwrite('overlays_GT/{}.jpeg'.format(ids),im)  "
   ]
  },
  {
   "cell_type": "code",
   "execution_count": null,
   "metadata": {
    "collapsed": true
   },
   "outputs": [],
   "source": [
    "for ids in ids_test:\n",
    "    im = cv2.imread('data2/data/test/test/{}.jpg'.format(ids))\n",
    "    mask = cv2.imread('DL_masksZF_unet/{}.png'.format(ids))\n",
    "    im = cv2.addWeighted(mask, 0.25, im, 1, 0, 1)\n",
    "    cv2.imwrite('overlays_ZF_net/{}.jpeg'.format(ids),im)   "
   ]
  },
  {
   "cell_type": "code",
   "execution_count": null,
   "metadata": {
    "collapsed": true
   },
   "outputs": [],
   "source": [
    "for ids in ids_test:\n",
    "    im = cv2.imread('data2/data/test/test/{}.jpg'.format(ids))\n",
    "    mask = cv2.imread('DL_masks256/{}.png'.format(ids))\n",
    "    im = cv2.addWeighted(mask, 0.25, im, 1, 0, 1)\n",
    "    cv2.imwrite('overlays_256/{}.jpeg'.format(ids),im) "
   ]
  },
  {
   "cell_type": "code",
   "execution_count": null,
   "metadata": {
    "collapsed": true
   },
   "outputs": [],
   "source": [
    "for ids in ids_test:\n",
    "    im = cv2.imread('data2/data/test/test/{}.jpg'.format(ids))\n",
    "    mask = cv2.imread('DL_masks512/{}.png'.format(ids))\n",
    "    im = cv2.addWeighted(mask, 0.25, im, 1, 0, 1)\n",
    "    cv2.imwrite('overlays_512/{}.jpeg'.format(ids),im) "
   ]
  },
  {
   "cell_type": "code",
   "execution_count": null,
   "metadata": {
    "collapsed": true
   },
   "outputs": [],
   "source": [
    "for ids in ids_test:\n",
    "    im = cv2.imread('data2/data/test/test/{}.jpg'.format(ids))\n",
    "    mask = cv2.imread('DL_masks1024/{}.png'.format(ids))\n",
    "    im = cv2.addWeighted(mask, 0.25, im, 1, 0, 1)\n",
    "    cv2.imwrite('overlays_1024/{}.jpeg'.format(ids),im) "
   ]
  },
  {
   "cell_type": "code",
   "execution_count": null,
   "metadata": {
    "collapsed": true
   },
   "outputs": [],
   "source": [
    "for ids in ids_test:\n",
    "    im = cv2.imread('data2/data/test/test/{}.jpg'.format(ids))\n",
    "    mask = cv2.imread('DL_masks1024_07/{}.png'.format(ids))\n",
    "    im = cv2.addWeighted(mask, 0.25, im, 1, 0, 1)\n",
    "    cv2.imwrite('overlays_1024_07/{}.jpeg'.format(ids),im) "
   ]
  },
  {
   "cell_type": "code",
   "execution_count": null,
   "metadata": {
    "collapsed": true
   },
   "outputs": [],
   "source": []
  }
 ],
 "metadata": {
  "kernelspec": {
   "display_name": "Python 3",
   "language": "python",
   "name": "python3"
  },
  "language_info": {
   "codemirror_mode": {
    "name": "ipython",
    "version": 3
   },
   "file_extension": ".py",
   "mimetype": "text/x-python",
   "name": "python",
   "nbconvert_exporter": "python",
   "pygments_lexer": "ipython3",
   "version": "3.6.3"
  },
  "varInspector": {
   "cols": {
    "lenName": 16,
    "lenType": 16,
    "lenVar": 40
   },
   "kernels_config": {
    "python": {
     "delete_cmd_postfix": "",
     "delete_cmd_prefix": "del ",
     "library": "var_list.py",
     "varRefreshCmd": "print(var_dic_list())"
    },
    "r": {
     "delete_cmd_postfix": ") ",
     "delete_cmd_prefix": "rm(",
     "library": "var_list.r",
     "varRefreshCmd": "cat(var_dic_list()) "
    }
   },
   "types_to_exclude": [
    "module",
    "function",
    "builtin_function_or_method",
    "instance",
    "_Feature"
   ],
   "window_display": true
  }
 },
 "nbformat": 4,
 "nbformat_minor": 2
}
